{
 "cells": [
  {
   "cell_type": "markdown",
   "metadata": {},
   "source": [
    "# NISPUF17"
   ]
  },
  {
   "cell_type": "markdown",
   "metadata": {},
   "source": [
    "# Assignment 2\n",
    "For this assignment you'll be looking at 2017 data on immunizations from the CDC. Your datafile for this assignment is in [assets/NISPUF17.csv](assets/NISPUF17.csv). A data users guide for this, which you'll need to map the variables in the data to the questions being asked, is available at [assets/NIS-PUF17-DUG.pdf](assets/NIS-PUF17-DUG.pdf). **Note: you may have to go to your Jupyter tree (click on the Coursera image) and navigate to the assignment 2 assets folder to see this PDF file).**"
   ]
  },
  {
   "cell_type": "markdown",
   "metadata": {},
   "source": [
    "## Question 1\n",
    "Write a function called `proportion_of_education` which returns the proportion of children in the dataset who had a mother with the education levels equal to less than high school (<12), high school (12), more than high school but not a college graduate (>12) and college degree.\n",
    "\n",
    "*This function should return a dictionary in the form of (use the correct numbers, do not round numbers):* \n",
    "```\n",
    "    {\"less than high school\":0.2,\n",
    "    \"high school\":0.4,\n",
    "    \"more than high school but not college\":0.2,\n",
    "    \"college\":0.2}\n",
    "```"
   ]
  },
  {
   "cell_type": "code",
   "execution_count": 2,
   "metadata": {},
   "outputs": [],
   "source": [
    "def proportion_of_education():\n",
    "    #import libraries\n",
    "    import pandas as pd\n",
    "    import numpy as np\n",
    "    #read csv file\n",
    "    df = pd.read_csv(\"assets/NISPUF17.csv\",index_col = 0)\n",
    "    #Column EDUC1 contain education detail of mother so creating a new data frame for calculations\n",
    "    mothers_education = df['EDUC1']\n",
    "    #sort the column for easy calculations\n",
    "    sort_mothers_education=np.sort(mothers_education)\n",
    "    #find the length for calculation proportion\n",
    "    n = len(sort_mothers_education)\n",
    "    #creating dictionary as per the requirment\n",
    "    POE  = {\"less than high school\":0.2,\n",
    "            \"high school\":0.4,\n",
    "             \"more than high school but not college\":0.2,\n",
    "              \"college\":0.2}\n",
    "    # Calculating POE\n",
    "    POE[\"less than high school\"]=np.sum(sort_mothers_education==1)/n \n",
    "    POE[\"high school\"]=np.sum(sort_mothers_education==2)/n \n",
    "    POE[\"more than high school but not college\"]=np.sum(sort_mothers_education==3)/n \n",
    "    POE[\"college\"]=np.sum(sort_mothers_education==4)/n \n",
    "    #retun dictionary POE\n",
    "    return POE"
   ]
  },
  {
   "cell_type": "code",
   "execution_count": 3,
   "metadata": {},
   "outputs": [],
   "source": [
    "assert type(proportion_of_education())==type({}), \"You must return a dictionary.\"\n",
    "assert len(proportion_of_education()) == 4, \"You have not returned a dictionary with four items in it.\"\n",
    "assert \"less than high school\" in proportion_of_education().keys(), \"You have not returned a dictionary with the correct keys.\"\n",
    "assert \"high school\" in proportion_of_education().keys(), \"You have not returned a dictionary with the correct keys.\"\n",
    "assert \"more than high school but not college\" in proportion_of_education().keys(), \"You have not returned a dictionary with the correct keys.\"\n",
    "assert \"college\" in proportion_of_education().keys(), \"You have not returned a dictionary with the correct keys.\""
   ]
  },
  {
   "cell_type": "markdown",
   "metadata": {},
   "source": [
    "## Question 2\n",
    "\n",
    "Let's explore the relationship between being fed breastmilk as a child and getting a seasonal influenza vaccine from a healthcare provider. Return a tuple of the average number of influenza vaccines for those children we know received breastmilk as a child and those who know did not.\n",
    "\n",
    "*This function should return a tuple in the form (use the correct numbers:*\n",
    "```\n",
    "(2.5, 0.1)\n",
    "```"
   ]
  },
  {
   "cell_type": "code",
   "execution_count": 4,
   "metadata": {},
   "outputs": [],
   "source": [
    "def average_influenza_doses():\n",
    "    #import libraries\n",
    "    import pandas as pd\n",
    "    import numpy as np\n",
    "    #read csv file\n",
    "    df = pd.read_csv(\"assets/NISPUF17.csv\",index_col = 0)\n",
    "    #creating a new data frame for calculations\n",
    "    avg_inf_doses = df.loc[:,['P_NUMFLU','CBF_01']]\n",
    "    #drop nulls \n",
    "    avg_inf_doses1=avg_inf_doses[avg_inf_doses['CBF_01']==1].dropna()\n",
    "    avg_inf_doses2=avg_inf_doses[avg_inf_doses['CBF_01']==2].dropna()\n",
    "    #creating a new data frame for calculations\n",
    "    AID1=avg_inf_doses1['P_NUMFLU'] \n",
    "    AID2=avg_inf_doses2['P_NUMFLU'] \n",
    "    #finding length\n",
    "    n1 = len(AID1)\n",
    "    n2 = len(AID2)\n",
    "    #calculating average\n",
    "    final_AID1 = np.sum(AID1)/n1\n",
    "    final_AID2 = np.sum(AID2)/n2\n",
    "    aid = (final_AID1,final_AID2)\n",
    "    #returing values in tuple \n",
    "    return aid"
   ]
  },
  {
   "cell_type": "markdown",
   "metadata": {},
   "source": [
    "## Question 3\n",
    "It would be interesting to see if there is any evidence of a link between vaccine effectiveness and sex of the child. \n",
    "Calculate the ratio of the number of children who contracted chickenpox but were vaccinated against it (at least one varicella dose) \n",
    "versus those who were vaccinated but did not contract chicken pox. Return results by sex. \n",
    "\n",
    "*This function should return a dictionary in the form of (use the correct numbers):* \n",
    "```\n",
    "    {\"male\":0.2,\n",
    "    \"female\":0.4}\n",
    "```\n",
    "\n",
    "Note: To aid in verification, the `chickenpox_by_sex()['female']` value the autograder is looking for starts with the digits `0.0077`.ipynb_checkpoints/"
   ]
  },
  {
   "cell_type": "code",
   "execution_count": 17,
   "metadata": {},
   "outputs": [],
   "source": [
    "def chickenpox_by_sex():\n",
    "    #import libraries\n",
    "    import pandas as pd\n",
    "    import numpy as np\n",
    "    #read csv file\n",
    "    df = pd.read_csv(\"assets/NISPUF17.csv\",index_col = 0)\n",
    "    #creating a new data frame for calculations\n",
    "    cbs_sex=df.loc[:,['HAD_CPOX','SEX','P_NUMVRC']]\n",
    "    cbs_sex_vac=cbs_sex[cbs_sex['P_NUMVRC'].gt(0) & df['HAD_CPOX'].lt(3)]    \n",
    "    #Creating dictionary\n",
    "    result = {\"male\":0.2,\n",
    "              \"female\":0.4}\n",
    "    #calculations\n",
    "    cbs1_sex1=len(cbs_sex_vac[(cbs_sex_vac['HAD_CPOX']==1) & (cbs_sex_vac['SEX']==1)])\n",
    "    cbs1_sex2=len(cbs_sex_vac[(cbs_sex_vac['HAD_CPOX']==1) & (cbs_sex_vac['SEX']==2)])\n",
    "    cbs2_sex1=len(cbs_sex_vac[(cbs_sex_vac['HAD_CPOX']==2) & (cbs_sex_vac['SEX']==1)])\n",
    "    cbs2_sex2=len(cbs_sex_vac[(cbs_sex_vac['HAD_CPOX']==2) & (cbs_sex_vac['SEX']==2)])\n",
    "    #division on the basis of sex\n",
    "    result['male']=cbs1_sex1/cbs2_sex1\n",
    "    result['female']=cbs1_sex2/cbs2_sex2\n",
    "    #return\n",
    "    return result"
   ]
  },
  {
   "cell_type": "code",
   "execution_count": 18,
   "metadata": {},
   "outputs": [],
   "source": [
    "assert len(chickenpox_by_sex())==2, \"Return a dictionary with two items, the first for males and the second for females.\""
   ]
  },
  {
   "cell_type": "markdown",
   "metadata": {},
   "source": [
    "## Question 4\n",
    "A correlation is a statistical relationship between two variables. If we wanted to know if vaccines work, we might look at the correlation between the use of the vaccine and whether it results in prevention of the infection or disease [1]. In this question, you are to see if there is a correlation between having had the chicken pox and the number of chickenpox vaccine doses given (varicella).\n",
    "\n",
    "Some notes on interpreting the answer. The `had_chickenpox_column` is either `1` (for yes) or `2` (for no), and the `num_chickenpox_vaccine_column` is the number of doses a child has been given of the varicella vaccine. A positive correlation (e.g., `corr > 0`) means that an increase in `had_chickenpox_column` (which means more no’s) would also increase the values of `num_chickenpox_vaccine_column` (which means more doses of vaccine). If there is a negative correlation (e.g., `corr < 0`), it indicates that having had chickenpox is related to an increase in the number of vaccine doses.\n",
    "\n",
    "Also, `pval` is the probability that we observe a correlation between `had_chickenpox_column` and `num_chickenpox_vaccine_column` which is greater than or equal to a particular value occurred by chance. A small `pval` means that the observed correlation is highly unlikely to occur by chance. In this case, `pval` should be very small (will end in `e-18` indicating a very small number).\n",
    "\n",
    "[1] This isn’t really the full picture, since we are not looking at when the dose was given. It’s possible that children had chickenpox and then their parents went to get them the vaccine. Does this dataset have the data we would need to investigate the timing of the dose?"
   ]
  },
  {
   "cell_type": "code",
   "execution_count": 21,
   "metadata": {},
   "outputs": [],
   "source": [
    "def corr_chickenpox():\n",
    "    #import libraries\n",
    "    import scipy.stats as stats\n",
    "    import pandas as pd\n",
    "    import numpy as np\n",
    "    #read csv file\n",
    "    df = pd.read_csv(\"assets/NISPUF17.csv\",index_col = 0)\n",
    "    #cleaning and extracting column which is needed  \n",
    "    df=df[df['HAD_CPOX'].lt(3)].loc[:,['HAD_CPOX','P_NUMVRC']].dropna()\n",
    "    # creating two new column\n",
    "    df.columns=['had_chickenpox_column','num_chickenpox_vaccine_column']\n",
    "    #finding correlation\n",
    "    corr, pval=stats.pearsonr(df[\"had_chickenpox_column\"],df[\"num_chickenpox_vaccine_column\"])\n",
    "    return corr"
   ]
  },
  {
   "cell_type": "code",
   "execution_count": 22,
   "metadata": {},
   "outputs": [],
   "source": [
    "assert -1<=corr_chickenpox()<=1, \"You must return a float number between -1.0 and 1.0.\""
   ]
  }
 ],
 "metadata": {
  "kernelspec": {
   "display_name": "Python 3",
   "language": "python",
   "name": "python3"
  },
  "language_info": {
   "codemirror_mode": {
    "name": "ipython",
    "version": 3
   },
   "file_extension": ".py",
   "mimetype": "text/x-python",
   "name": "python",
   "nbconvert_exporter": "python",
   "pygments_lexer": "ipython3",
   "version": "3.7.3"
  }
 },
 "nbformat": 4,
 "nbformat_minor": 4
}
